{
 "cells": [
  {
   "cell_type": "markdown",
   "id": "e6c31def-9359-4603-a604-1f6a1d5eb80e",
   "metadata": {},
   "source": [
    "1. Importing Libraries\n",
    "2. Data Types\n",
    "3. Task\n"
   ]
  },
  {
   "cell_type": "markdown",
   "id": "38f4e919-e9a7-4c99-a9ec-5cdf831a0263",
   "metadata": {},
   "source": [
    "#01. Importing libraries"
   ]
  },
  {
   "cell_type": "code",
   "execution_count": 2,
   "id": "58f7a9ae-a182-47e8-b9a3-037a22853602",
   "metadata": {},
   "outputs": [],
   "source": [
    "#Import libraries NumPy and Pandas\n",
    "import pandas as pd\n",
    "import numpy as np\n",
    "import os "
   ]
  },
  {
   "cell_type": "markdown",
   "id": "7cda9f4d-64d1-4d8f-8cb5-82a789c73ef4",
   "metadata": {},
   "source": [
    "#02. Data Types"
   ]
  },
  {
   "cell_type": "code",
   "execution_count": 4,
   "id": "97c74a51-000e-48a9-9353-1f51f78b78aa",
   "metadata": {},
   "outputs": [],
   "source": [
    "x=2"
   ]
  },
  {
   "cell_type": "code",
   "execution_count": 6,
   "id": "3fd1b8a7-c5f0-40af-b9c1-74aaeb75881f",
   "metadata": {},
   "outputs": [
    {
     "data": {
      "text/plain": [
       "2"
      ]
     },
     "execution_count": 6,
     "metadata": {},
     "output_type": "execute_result"
    }
   ],
   "source": [
    "x"
   ]
  },
  {
   "cell_type": "code",
   "execution_count": 8,
   "id": "ea8fcc50-56fb-42d8-a627-dad92aa01722",
   "metadata": {},
   "outputs": [
    {
     "name": "stdout",
     "output_type": "stream",
     "text": [
      "2\n"
     ]
    }
   ],
   "source": [
    "print(x)"
   ]
  },
  {
   "cell_type": "code",
   "execution_count": 10,
   "id": "b148e712-7230-4690-be2a-c315bab674dc",
   "metadata": {},
   "outputs": [
    {
     "data": {
      "text/plain": [
       "int"
      ]
     },
     "execution_count": 10,
     "metadata": {},
     "output_type": "execute_result"
    }
   ],
   "source": [
    "type(x)"
   ]
  },
  {
   "cell_type": "code",
   "execution_count": 12,
   "id": "3043ed61-096d-4d9c-9e82-17f663f42a61",
   "metadata": {},
   "outputs": [],
   "source": [
    "y=5.678"
   ]
  },
  {
   "cell_type": "code",
   "execution_count": 14,
   "id": "5b4be87a-2a0a-4534-bb64-fa255a5c6c96",
   "metadata": {},
   "outputs": [
    {
     "data": {
      "text/plain": [
       "float"
      ]
     },
     "execution_count": 14,
     "metadata": {},
     "output_type": "execute_result"
    }
   ],
   "source": [
    "type(y)"
   ]
  },
  {
   "cell_type": "code",
   "execution_count": 16,
   "id": "d4dbf2c4-1c61-4652-a66a-6125b7d2e7ed",
   "metadata": {},
   "outputs": [],
   "source": [
    "z= 'Brazil'"
   ]
  },
  {
   "cell_type": "code",
   "execution_count": 18,
   "id": "c465e0b1-b4d6-4bcf-bc5d-63de69472986",
   "metadata": {},
   "outputs": [
    {
     "data": {
      "text/plain": [
       "str"
      ]
     },
     "execution_count": 18,
     "metadata": {},
     "output_type": "execute_result"
    }
   ],
   "source": [
    "type(z)"
   ]
  },
  {
   "cell_type": "code",
   "execution_count": 20,
   "id": "5ea27225-6d93-467f-9f7a-cbf39789e1ef",
   "metadata": {},
   "outputs": [
    {
     "data": {
      "text/plain": [
       "bool"
      ]
     },
     "execution_count": 20,
     "metadata": {},
     "output_type": "execute_result"
    }
   ],
   "source": [
    "type(True)"
   ]
  },
  {
   "cell_type": "code",
   "execution_count": 22,
   "id": "6a0bbf3b-c5a6-4218-a991-e794a5d78bb9",
   "metadata": {},
   "outputs": [
    {
     "data": {
      "text/plain": [
       "7.678"
      ]
     },
     "execution_count": 22,
     "metadata": {},
     "output_type": "execute_result"
    }
   ],
   "source": [
    "x+y"
   ]
  },
  {
   "cell_type": "code",
   "execution_count": 24,
   "id": "27c59605-dcef-4bcb-9398-b86f9e54c1f1",
   "metadata": {},
   "outputs": [],
   "source": [
    "x=x+4"
   ]
  },
  {
   "cell_type": "code",
   "execution_count": 26,
   "id": "c632972e-d08b-4ff9-89e2-cd04fb6585d5",
   "metadata": {},
   "outputs": [
    {
     "name": "stdout",
     "output_type": "stream",
     "text": [
      "6\n"
     ]
    }
   ],
   "source": [
    "print(x)"
   ]
  },
  {
   "cell_type": "code",
   "execution_count": 30,
   "id": "51187445-be8c-4340-8ad3-23907fdacb64",
   "metadata": {},
   "outputs": [
    {
     "data": {
      "text/plain": [
       "'Hello World'"
      ]
     },
     "execution_count": 30,
     "metadata": {},
     "output_type": "execute_result"
    }
   ],
   "source": [
    "a= 'Hello '\n",
    "b= 'World'\n",
    "a+b"
   ]
  },
  {
   "cell_type": "code",
   "execution_count": 34,
   "id": "083f5360-ce72-4e7f-9ab2-c12c108be48c",
   "metadata": {},
   "outputs": [
    {
     "data": {
      "text/plain": [
       "'potatopotatopotatopotatopotatopotatopotatopotatopotatopotatopotatopotato'"
      ]
     },
     "execution_count": 34,
     "metadata": {},
     "output_type": "execute_result"
    }
   ],
   "source": [
    "n='potato'\n",
    "n*12"
   ]
  },
  {
   "cell_type": "code",
   "execution_count": 36,
   "id": "7bff3086-bbb3-4b9b-a306-864b3203e680",
   "metadata": {},
   "outputs": [
    {
     "data": {
      "text/plain": [
       "False"
      ]
     },
     "execution_count": 36,
     "metadata": {},
     "output_type": "execute_result"
    }
   ],
   "source": [
    "x == y"
   ]
  },
  {
   "cell_type": "markdown",
   "id": "89d83327-82c7-4e63-8b61-feeba49a8571",
   "metadata": {},
   "source": [
    "#3. Task"
   ]
  },
  {
   "cell_type": "code",
   "execution_count": null,
   "id": "e2b73d8f-e8e4-48d0-89a2-9f1ecbcf73a1",
   "metadata": {},
   "outputs": [],
   "source": [
    "#Code 3 different ways of reaching a result of 100 by adding or subtracting numeric variables.\n",
    "#Code 2 floating-point variables and divide them by each other.\n",
    "#Construct 2 short sentences made of separate strings."
   ]
  },
  {
   "cell_type": "code",
   "execution_count": 44,
   "id": "fd4b272c-beaa-481d-97e2-ad61ce698f1a",
   "metadata": {},
   "outputs": [
    {
     "data": {
      "text/plain": [
       "100"
      ]
     },
     "execution_count": 44,
     "metadata": {},
     "output_type": "execute_result"
    }
   ],
   "source": [
    "#task1\n",
    "c=94\n",
    "x+c"
   ]
  },
  {
   "cell_type": "code",
   "execution_count": 40,
   "id": "796c0761-8a4d-4db5-8ee8-e3cd174d9478",
   "metadata": {},
   "outputs": [
    {
     "data": {
      "text/plain": [
       "100"
      ]
     },
     "execution_count": 40,
     "metadata": {},
     "output_type": "execute_result"
    }
   ],
   "source": [
    "v=5\n",
    "3*(x*v)+10"
   ]
  },
  {
   "cell_type": "code",
   "execution_count": 42,
   "id": "a70223b0-b5ce-48da-ad66-6ae5953f169e",
   "metadata": {},
   "outputs": [
    {
     "data": {
      "text/plain": [
       "100"
      ]
     },
     "execution_count": 42,
     "metadata": {},
     "output_type": "execute_result"
    }
   ],
   "source": [
    "194-c"
   ]
  },
  {
   "cell_type": "code",
   "execution_count": 46,
   "id": "9293c619-bb4b-49f5-a636-35f0fe75b048",
   "metadata": {},
   "outputs": [
    {
     "data": {
      "text/plain": [
       "25128.989765183345"
      ]
     },
     "execution_count": 46,
     "metadata": {},
     "output_type": "execute_result"
    }
   ],
   "source": [
    "#task 2\n",
    "z=78945.2342463\n",
    "y=3.1416\n",
    "z/y"
   ]
  },
  {
   "cell_type": "code",
   "execution_count": 70,
   "id": "403efc74-fd50-46a5-96cd-8f6f827e984b",
   "metadata": {},
   "outputs": [],
   "source": [
    "q= 'I am learning '\n",
    "w= 'Python '\n",
    "e= 'but it is difficult.'\n",
    "r= 'and it is easy!'\n"
   ]
  },
  {
   "cell_type": "code",
   "execution_count": 72,
   "id": "23b4f997-f639-43df-a6e5-a2607c2338da",
   "metadata": {},
   "outputs": [
    {
     "data": {
      "text/plain": [
       "'I am learning Python '"
      ]
     },
     "execution_count": 72,
     "metadata": {},
     "output_type": "execute_result"
    }
   ],
   "source": [
    "q+w"
   ]
  },
  {
   "cell_type": "code",
   "execution_count": 74,
   "id": "97221426-c31d-4c1b-b227-fb18251f6b40",
   "metadata": {},
   "outputs": [
    {
     "data": {
      "text/plain": [
       "'I am learning Python but it is difficult.'"
      ]
     },
     "execution_count": 74,
     "metadata": {},
     "output_type": "execute_result"
    }
   ],
   "source": [
    "q+w+e"
   ]
  },
  {
   "cell_type": "code",
   "execution_count": 76,
   "id": "a5b1de61-203c-4839-bf60-25cd72165e31",
   "metadata": {},
   "outputs": [
    {
     "data": {
      "text/plain": [
       "'I am learning Python and it is easy!'"
      ]
     },
     "execution_count": 76,
     "metadata": {},
     "output_type": "execute_result"
    }
   ],
   "source": [
    "q+w+r"
   ]
  },
  {
   "cell_type": "code",
   "execution_count": null,
   "id": "beb1bf15-385d-4b4b-b25b-14a0a45aa28e",
   "metadata": {},
   "outputs": [],
   "source": []
  }
 ],
 "metadata": {
  "kernelspec": {
   "display_name": "Python [conda env:base] *",
   "language": "python",
   "name": "conda-base-py"
  },
  "language_info": {
   "codemirror_mode": {
    "name": "ipython",
    "version": 3
   },
   "file_extension": ".py",
   "mimetype": "text/x-python",
   "name": "python",
   "nbconvert_exporter": "python",
   "pygments_lexer": "ipython3",
   "version": "3.12.7"
  }
 },
 "nbformat": 4,
 "nbformat_minor": 5
}
